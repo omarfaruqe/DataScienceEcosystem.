{
 "cells": [
  {
   "cell_type": "markdown",
   "id": "9c5e64dc-2bc7-4640-9b71-877eda7b6100",
   "metadata": {},
   "source": [
    "<center>\n",
    "    <img src=\"https://cf-courses-data.s3.us.cloud-object-storage.appdomain.cloud/IBMDeveloperSkillsNetwork-DS0105EN-SkillsNetwork/labs/Module2/images/SN_web_lightmode.png\" width=\"300\" alt=\"cognitiveclass.ai logo\">\n",
    "</center>\n"
   ]
  },
  {
   "cell_type": "markdown",
   "id": "bca0d27a-24c6-4c43-b116-c73c8d9ab219",
   "metadata": {},
   "source": [
    "# Hands-on Lab: Create your Jupyter Notebook\n"
   ]
  },
  {
   "cell_type": "markdown",
   "id": "8b126e2f-912e-42e0-8d57-43862ac465fc",
   "metadata": {},
   "source": [
    "#### Add your code below following the instructions given in the course\n"
   ]
  },
  {
   "cell_type": "markdown",
   "metadata": {},
   "source": [
    "# Data Science Tools and Ecosystem"
   ]
  },
  {
   "cell_type": "markdown",
   "metadata": {},
   "source": [
    "In this notebook, Data Science Tools and Ecosystem are summarized."
   ]
  },
  {
   "cell_type": "markdown",
   "metadata": {},
   "source": [
    "## Author\n",
    "\n",
    "Omar Faruqe"
   ]
  },
  {
   "cell_type": "markdown",
   "metadata": {},
   "source": [
    "**Objectives:**\n",
    "\n",
    "* Create a Jupyter Notebook\n",
    "* Insert code and markdown cells\n",
    "* Share your notebook through GitHub"
   ]
  },
  {
   "cell_type": "markdown",
   "metadata": {},
   "source": [
    "Some of the popular languages that Data Scientists use are:\n",
    "\n",
    "1. **Python:** A versatile, high-level language with a rich ecosystem of libraries specifically designed for data science tasks\n",
    "2. **R:** A language and environment specifically designed for statistical computing and graphics. \n",
    "3. **SQL:** (Structured Query Language) While not a general-purpose programming language like Python or R, SQL is essential for data scientists. \n",
    "4. **Julia:** A newer language gaining popularity in the data science community. "
   ]
  },
  {
   "cell_type": "markdown",
   "metadata": {},
   "source": [
    "Some of the commonly used libraries used by Data Scientists include:\n",
    "\n",
    "1. **NumPy:**  A fundamental library for numerical computing in Python. \n",
    "\n",
    "2. **pandas:**  A powerful library for data manipulation and analysis. \n",
    "\n",
    "3. **scikit-learn:** A comprehensive library for machine learning. \n",
    "\n",
    "4. **Matplotlib:** A widely used library for creating static, interactive, and animated visualizations in Python. \n",
    "\n",
    "5. **Seaborn:** Provides a higher-level interface for creating statistically informative and visually appealing graphics. \n",
    "\n",
    "6. **TensorFlow:** An open-source machine learning platform developed by Google. \n",
    "\n",
    "7. **PyTorch:** Another popular open-source machine learning framework, especially favored in research and deep learning. "
   ]
  },
  {
   "cell_type": "markdown",
   "metadata": {},
   "source": [
    "| Data Science Tools |\n",
    "|--------------------|\n",
    "| Jupyter Notebooks   |\n",
    "| RStudio            |\n",
    "| VS Code (with Python extensions) |"
   ]
  },
  {
   "cell_type": "markdown",
   "metadata": {},
   "source": [
    "### Below are a few examples of evaluating arithmetic expressions in Python.\n",
    "\n",
    "Here are some basic arithmetic operations you can perform in Python:\n",
    "\n",
    "* **Addition:** `2 + 3` results in `5`\n",
    "* **Subtraction:** `5 - 2` results in `3`\n",
    "* **Multiplication:** `4 * 6` results in `24`\n",
    "* **Division:** `10 / 2` results in `5.0` (Note: Python performs floating-point division by default)\n",
    "* **Floor Division:** `10 // 2` results in `5` (gives the integer part of the division)\n",
    "* **Modulo (Remainder):** `7 % 3` results in `1`\n",
    "* **Exponentiation:** `2 ** 3` results in `8`\n",
    "\n",
    "You can also combine these operations using parentheses to control the order of evaluation:\n",
    "\n",
    "* `(2 + 3) * 4` results in `20`\n",
    "* `2 + 3 * 4` results in `14` (Multiplication is performed before addition)\n",
    "\n",
    "Python follows the standard order of operations (PEMDAS/BODMAS): Parentheses, Exponents, Multiplication and Division (from left to right), Addition and Subtraction (from left to right)."
   ]
  },
  {
   "cell_type": "code",
   "execution_count": 7,
   "metadata": {},
   "outputs": [
    {
     "data": {
      "text/plain": [
       "17"
      ]
     },
     "execution_count": 7,
     "metadata": {},
     "output_type": "execute_result"
    }
   ],
   "source": [
    "# This is a simple arithmetic expression to multiply then add integers.\n",
    "(3 * 4) + 5"
   ]
  },
  {
   "cell_type": "code",
   "execution_count": 8,
   "metadata": {},
   "outputs": [
    {
     "data": {
      "text/plain": [
       "3.3333333333333335"
      ]
     },
     "execution_count": 8,
     "metadata": {},
     "output_type": "execute_result"
    }
   ],
   "source": [
    "# This will convert 200 minutes to hours by dividing by 60.\n",
    "200 / 60"
   ]
  },
  {
   "cell_type": "markdown",
   "id": "b5f467ed-efe7-45ac-a08b-b2d48c26ba81",
   "metadata": {},
   "source": [
    "Copyright ©2024 IBM Corporation. All rights reserved.\n"
   ]
  },
  {
   "cell_type": "markdown",
   "metadata": {},
   "source": []
  }
 ],
 "metadata": {
  "kernelspec": {
   "display_name": "Python 3",
   "language": "python",
   "name": "python3"
  },
  "language_info": {
   "codemirror_mode": {
    "name": "ipython",
    "version": 3
   },
   "file_extension": ".py",
   "mimetype": "text/x-python",
   "name": "python",
   "nbconvert_exporter": "python",
   "pygments_lexer": "ipython3",
   "version": "3.12.2"
  },
  "prev_pub_hash": "9e1985db9844176462bd1d5863048c9f3d17404bbc6a648be9084b0c42b29347"
 },
 "nbformat": 4,
 "nbformat_minor": 4
}
